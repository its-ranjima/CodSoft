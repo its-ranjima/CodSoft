{
 "cells": [
  {
   "cell_type": "markdown",
   "id": "63f39c52-cf97-432e-83dd-953d6b611bf1",
   "metadata": {},
   "source": [
    "# Import Libraries"
   ]
  },
  {
   "cell_type": "code",
   "execution_count": 23,
   "id": "615bdac8-c0de-4830-9429-43b2eab77c8a",
   "metadata": {},
   "outputs": [],
   "source": [
    "import pandas as pd\n",
    "import numpy as np\n",
    "from sklearn.preprocessing import LabelEncoder, StandardScaler\n",
    "from sklearn.linear_model import LogisticRegression\n",
    "from sklearn.tree import DecisionTreeClassifier\n",
    "from sklearn.ensemble import RandomForestClassifier\n",
    "from sklearn.metrics import classification_report, confusion_matrix, accuracy_score\n",
    "import matplotlib.pyplot as plt\n",
    "import seaborn as sns\n",
    "from sklearn.metrics import accuracy_score, precision_score, recall_score, roc_auc_score, confusion_matrix"
   ]
  },
  {
   "cell_type": "markdown",
   "id": "5d198dbf-225c-4440-b135-f3d63117845a",
   "metadata": {},
   "source": [
    "# Load Data"
   ]
  },
  {
   "cell_type": "code",
   "execution_count": 4,
   "id": "b516ad84-8372-4d0f-940c-927253511a5c",
   "metadata": {},
   "outputs": [],
   "source": [
    "train_df = pd.read_csv(\"fraudTrain.csv\")\n",
    "test_df = pd.read_csv(\"fraudTest.csv\")"
   ]
  },
  {
   "cell_type": "markdown",
   "id": "d6537c67-9014-4a54-8f8e-258ace380112",
   "metadata": {},
   "source": [
    "# Explore Data"
   ]
  },
  {
   "cell_type": "code",
   "execution_count": 6,
   "id": "394cb33f-e1ba-4b1b-8e4d-d25e85d8a450",
   "metadata": {},
   "outputs": [
    {
     "name": "stdout",
     "output_type": "stream",
     "text": [
      "Training data shape: (1296675, 23)\n",
      "Test data shape: (555719, 23)\n",
      "is_fraud\n",
      "0    1289169\n",
      "1       7506\n",
      "Name: count, dtype: int64\n"
     ]
    }
   ],
   "source": [
    "print(\"Training data shape:\", train_df.shape)\n",
    "print(\"Test data shape:\", test_df.shape)\n",
    "print(train_df['is_fraud'].value_counts())\n"
   ]
  },
  {
   "cell_type": "markdown",
   "id": "a51914d6-2247-4d63-ab2b-c4af3d4a3cd6",
   "metadata": {},
   "source": [
    "# Drop only existing columns"
   ]
  },
  {
   "cell_type": "code",
   "execution_count": 8,
   "id": "112778e9-dcd5-40d2-9cc1-99b6ce5ef244",
   "metadata": {},
   "outputs": [],
   "source": [
    "drop_cols = ['Unnamed: 0', 'trans_date_trans_time', 'cc_num', 'first', 'last', 'street', 'city',\n",
    "             'state', 'zip', 'dob', 'trans_num', 'unix_time', 'merch_lat', 'merch_long']\n",
    "train_df.drop(columns=[col for col in drop_cols if col in train_df.columns], inplace=True)\n",
    "test_df.drop(columns=[col for col in drop_cols if col in test_df.columns], inplace=True)"
   ]
  },
  {
   "cell_type": "markdown",
   "id": "63859769-1a13-48d0-b9a6-bff1b5e021c4",
   "metadata": {},
   "source": [
    "# Combine and encode categorical columns"
   ]
  },
  {
   "cell_type": "code",
   "execution_count": 10,
   "id": "da3a3b8d-fbb8-4878-954a-7e63aa10c1c1",
   "metadata": {},
   "outputs": [],
   "source": [
    "combined_df = pd.concat([train_df, test_df], axis=0)\n",
    "categorical_cols = ['merchant', 'category', 'gender', 'job']\n",
    "combined_df = pd.get_dummies(combined_df, columns=categorical_cols)"
   ]
  },
  {
   "cell_type": "markdown",
   "id": "6e80a1f6-9a87-406a-b7ba-a573bc436004",
   "metadata": {},
   "source": [
    "# Split"
   ]
  },
  {
   "cell_type": "code",
   "execution_count": 12,
   "id": "f8f22476-a88b-4849-baff-b6404a8a3473",
   "metadata": {},
   "outputs": [],
   "source": [
    "train_df_encoded = combined_df.iloc[:len(train_df), :].copy()\n",
    "test_df_encoded = combined_df.iloc[len(train_df):, :].copy()"
   ]
  },
  {
   "cell_type": "markdown",
   "id": "e2824f40-be0c-4f00-8981-47eaa253cc03",
   "metadata": {},
   "source": [
    "# Scale "
   ]
  },
  {
   "cell_type": "code",
   "execution_count": 14,
   "id": "51c5172e-26f7-4803-9b15-0a35258a39f5",
   "metadata": {},
   "outputs": [],
   "source": [
    "scaler = StandardScaler()\n",
    "train_df_encoded.loc[:, 'amt'] = scaler.fit_transform(train_df_encoded[['amt']])\n",
    "test_df_encoded.loc[:, 'amt'] = scaler.transform(test_df_encoded[['amt']])"
   ]
  },
  {
   "cell_type": "markdown",
   "id": "2ea1da5a-d923-4fb4-a1f2-fff053d669cb",
   "metadata": {},
   "source": [
    "# Scale numeric features"
   ]
  },
  {
   "cell_type": "code",
   "execution_count": 16,
   "id": "4539a0f8-5682-4948-953c-21940f0d0bef",
   "metadata": {},
   "outputs": [],
   "source": [
    "scaler = StandardScaler()\n",
    "train_df['amt'] = scaler.fit_transform(train_df[['amt']])\n",
    "test_df['amt'] = scaler.transform(test_df[['amt']])"
   ]
  },
  {
   "cell_type": "markdown",
   "id": "0a5a52f9-18ae-4834-8ebc-ee478edfdc7a",
   "metadata": {},
   "source": [
    "# Split Features & Labels"
   ]
  },
  {
   "cell_type": "code",
   "execution_count": 18,
   "id": "6beaf311-8c01-4edd-af7e-4089f4baa0f9",
   "metadata": {},
   "outputs": [],
   "source": [
    "X_train = train_df_encoded.drop(\"is_fraud\", axis=1)\n",
    "y_train = train_df_encoded[\"is_fraud\"]\n",
    "X_test = test_df_encoded.drop(\"is_fraud\", axis=1)\n",
    "y_test = test_df_encoded[\"is_fraud\"]\n"
   ]
  },
  {
   "cell_type": "code",
   "execution_count": 19,
   "id": "0d87cc0b-3c3a-4358-82ac-b102a6bf2b54",
   "metadata": {},
   "outputs": [],
   "source": [
    "rf = RandomForestClassifier(n_estimators=100, max_depth=10, class_weight='balanced', random_state=42)\n",
    "rf.fit(X_train, y_train)\n",
    "y_pred_rf = rf.predict(X_test)\n",
    "y_proba_rf = rf.predict_proba(X_test)[:, 1]"
   ]
  },
  {
   "cell_type": "markdown",
   "id": "aed25f6b-1825-4d54-83b8-460f549f37c5",
   "metadata": {},
   "source": [
    "# Make predictions "
   ]
  },
  {
   "cell_type": "code",
   "execution_count": 21,
   "id": "653d0191-64be-4344-babd-63b43b36ee15",
   "metadata": {},
   "outputs": [],
   "source": [
    "y_pred = rf.predict(X_test)\n",
    "y_proba = rf.predict_proba(X_test)[:, 1]"
   ]
  },
  {
   "cell_type": "code",
   "execution_count": 25,
   "id": "c0ef2d67-f262-4062-9831-57e186e0d553",
   "metadata": {},
   "outputs": [
    {
     "name": "stdout",
     "output_type": "stream",
     "text": [
      "Accuracy  : 0.9442236094141103\n",
      "Precision : 0.04938618686158748\n",
      "Recall    : 0.737062937062937\n",
      "ROC AUC   : 0.8667165266049968\n"
     ]
    }
   ],
   "source": [
    "print(\"Accuracy  :\", accuracy_score(y_test, y_pred))\n",
    "print(\"Precision :\", precision_score(y_test, y_pred, zero_division=0))\n",
    "print(\"Recall    :\", recall_score(y_test, y_pred, zero_division=0))\n",
    "print(\"ROC AUC   :\", roc_auc_score(y_test, y_proba)) "
   ]
  },
  {
   "cell_type": "markdown",
   "id": "dd2585bb-5349-42ca-9962-7cbd8707e736",
   "metadata": {},
   "source": [
    "# Roc Auc Curve"
   ]
  },
  {
   "cell_type": "code",
   "execution_count": 27,
   "id": "d1d029ce-4926-4f29-b25c-99e591001ed4",
   "metadata": {},
   "outputs": [
    {
     "data": {
      "image/png": "[encoded data removed]",
      "text/plain": [
       "<Figure size 600x400 with 1 Axes>"
      ]
     },
     "metadata": {},
     "output_type": "display_data"
    }
   ],
   "source": [
    "fpr, tpr, thresholds = roc_curve(y_test, y_proba_rf)\n",
    "roc_auc = auc(fpr, tpr)\n",
    "\n",
    "plt.figure(figsize=(6, 4))\n",
    "plt.plot(fpr, tpr, color='darkorange', lw=2, label='ROC curve (AUC = {:.2f})'.format(roc_auc))\n",
    "plt.plot([0, 1], [0, 1], color='navy', lw=2, linestyle='--', label='Random guess')\n",
    "plt.xlabel('False Positive Rate')\n",
    "plt.ylabel('True Positive Rate')\n",
    "plt.title('ROC AUC Curve - Random Forest')\n",
    "plt.legend(loc=\"lower right\")\n",
    "plt.grid(True)\n",
    "plt.tight_layout()\n",
    "plt.show()"
   ]
  },
  {
   "cell_type": "markdown",
   "id": "a8834edc-8f1d-4311-b392-28d23d963ad4",
   "metadata": {},
   "source": [
    "# Key Insights\n",
    "\n",
    "* Feature scaling and data balancing are essential.\n",
    "\n",
    "*  Random Forest Classifier performed best with high recall and AUC.\n",
    "\n",
    "* Focus on recall over accuracy to avoid missing fraud.\n",
    "\n",
    "* Fraud patterns differ in transaction amount and behavior.\n",
    "\n",
    "* Features are PCA-transformed (V1–V28) and numerical.\n",
    "\n",
    "* Fraud transactions often have higher amounts.\n",
    "\n",
    "* Time and Amount are not scaled; Time shows no clear trend.\n",
    "\n",
    "* Fraud cases show different patterns in features like V10, V14.\n",
    "\n",
    "* Dataset is clean with no missing values.\n",
    "\n"
   ]
  }
 ],
 "metadata": {
  "kernelspec": {
   "display_name": "Python 3 (ipykernel)",
   "language": "python",
   "name": "python3"
  },
  "language_info": {
   "codemirror_mode": {
    "name": "ipython",
    "version": 3
   },
   "file_extension": ".py",
   "mimetype": "text/x-python",
   "name": "python",
   "nbconvert_exporter": "python",
   "pygments_lexer": "ipython3",
   "version": "3.12.4"
  }
 },
 "nbformat": 4,
 "nbformat_minor": 5
}
